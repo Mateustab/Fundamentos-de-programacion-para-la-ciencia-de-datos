{
 "cells": [
  {
   "cell_type": "code",
   "execution_count": null,
   "id": "0abe402a",
   "metadata": {},
   "outputs": [],
   "source": [
    "def caesarCipher(s, k):\n",
    "    \n",
    "    n = int(input(\"Enter the length of the unencrypted string\").strip())\n",
    "    alphabet =\"abcdefghijklmnopqrstuvwxyz\"\n",
    "    a = []\n",
    "    for i in range(0, n):\n",
    "        if s[i] in alphabet:\n",
    "            if (alphabet.index(s[i]) + k) > len(alphabet):\n",
    "               a.append(alphabet[(alphabet.index(s[i]) + k) % len(alphabet)])\n",
    "            else:\n",
    "                a.append(alphabet[(alphabet.index(s[i]) + k)])\n",
    "        else:\n",
    "            if s[i].lower() in alphabet:\n",
    "                if (alphabet.index(s[i].lower()) + k) > (len(alphabet) - 1):\n",
    "                    a.append(alphabet[(alphabet.index(s[i].lower()) + k) % len(alphabet)].upper())\n",
    "                else:\n",
    "                    a.append(alphabet[(alphabet.index(s[i].lower()) + k)].upper())\n",
    "            else:\n",
    "                a.append(s[i])\n",
    "        \n",
    "    m = \"\".join(a)\n",
    "    return m\n",
    "        \n",
    "s = input(\"Enter text\") \n",
    "\n",
    "k = int(input(\"enter the alphabet rotation factor\").strip())\n",
    "\n",
    "result = caesarCipher(s, k)\n",
    "print(result)"
   ]
  }
 ],
 "metadata": {
  "kernelspec": {
   "display_name": "base",
   "language": "python",
   "name": "python3"
  },
  "language_info": {
   "name": "python",
   "version": "3.13.5"
  }
 },
 "nbformat": 4,
 "nbformat_minor": 5
}
