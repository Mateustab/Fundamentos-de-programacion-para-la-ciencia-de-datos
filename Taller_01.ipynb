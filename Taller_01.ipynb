{
 "cells": [
  {
   "cell_type": "markdown",
   "id": "ed111a8c",
   "metadata": {},
   "source": [
    "# Caesar Cipher, problem 04"
   ]
  },
  {
   "cell_type": "code",
   "execution_count": 4,
   "id": "ce7ed5a1",
   "metadata": {},
   "outputs": [
    {
     "name": "stdout",
     "output_type": "stream",
     "text": [
      "okffng-Qwvb\n"
     ]
    }
   ],
   "source": [
    "def caesarCipher(s, k):\n",
    "    \n",
    "    n = int(input(\"Enter the length of the unencrypted string\").strip())\n",
    "    alphabet =\"abcdefghijklmnopqrstuvwxyz\"\n",
    "    a = []\n",
    "    for i in range(0, n):\n",
    "        if s[i] in alphabet:\n",
    "            if (alphabet.index(s[i]) + k) > len(alphabet):\n",
    "               a.append(alphabet[(alphabet.index(s[i]) + k) % len(alphabet)])\n",
    "            else:\n",
    "                a.append(alphabet[(alphabet.index(s[i]) + k)])\n",
    "        else:\n",
    "            if s[i].lower() in alphabet:\n",
    "                if (alphabet.index(s[i].lower()) + k) > (len(alphabet) - 1):\n",
    "                    a.append(alphabet[(alphabet.index(s[i].lower()) + k) % len(alphabet)].upper())\n",
    "                else:\n",
    "                    a.append(alphabet[(alphabet.index(s[i].lower()) + k)].upper())\n",
    "            else:\n",
    "                a.append(s[i])\n",
    "        \n",
    "    m = \"\".join(a)\n",
    "    return m\n",
    "        \n",
    "s = input(\"Enter text\") \n",
    "\n",
    "k = int(input(\"enter the alphabet rotation factor\").strip())\n",
    "\n",
    "result = caesarCipher(s, k)\n",
    "print(result)"
   ]
  },
  {
   "cell_type": "markdown",
   "id": "5718d465",
   "metadata": {},
   "source": [
    "# Diagonal Difference, problem 09"
   ]
  },
  {
   "cell_type": "code",
   "execution_count": 5,
   "id": "25f638bf",
   "metadata": {},
   "outputs": [
    {
     "name": "stdout",
     "output_type": "stream",
     "text": [
      "15\n"
     ]
    }
   ],
   "source": [
    "def diagonalDifference(arr,n):\n",
    "    diagonal_1 = 0\n",
    "    diagonal_2 = 0\n",
    "\n",
    "    for j in range(0,n):\n",
    "        diagonal_1 += arr[j][j]\n",
    "        diagonal_2 += arr[j][n - 1]\n",
    "        n -= 1\n",
    "        \n",
    "    return abs(diagonal_1 - diagonal_2)\n",
    "    \n",
    "        \n",
    "\n",
    "\n",
    "n = int(input().strip())\n",
    "\n",
    "arr = []\n",
    "\n",
    "for i in range(n):\n",
    "    arr.append(list(map(int, input().rstrip().split())))\n",
    "\n",
    "result = diagonalDifference(arr,n)\n",
    "\n",
    "print(result)"
   ]
  },
  {
   "cell_type": "markdown",
   "id": "fc60c847",
   "metadata": {},
   "source": [
    "# Mini-Max Sum, problem 10"
   ]
  },
  {
   "cell_type": "code",
   "execution_count": 6,
   "id": "70a3e8b8",
   "metadata": {},
   "outputs": [
    {
     "name": "stdout",
     "output_type": "stream",
     "text": [
      "10 14\n"
     ]
    }
   ],
   "source": [
    "def miniMaxSum(arr):\n",
    "    arr.sort()\n",
    "    min = arr[0] + arr[1] + arr[2] + arr[3]\n",
    "    max = arr[1] + arr[2] + arr[3] + arr[4]\n",
    "\n",
    "    print(min , max)\n",
    "\n",
    "arr = list(map(int, input().rstrip().split()))\n",
    "\n",
    "miniMaxSum(arr)"
   ]
  },
  {
   "cell_type": "markdown",
   "id": "c2b7bae8",
   "metadata": {},
   "source": [
    "# Staircase, problem 11"
   ]
  },
  {
   "cell_type": "code",
   "execution_count": 7,
   "id": "9b85110f",
   "metadata": {},
   "outputs": [
    {
     "name": "stdout",
     "output_type": "stream",
     "text": [
      "     #\n",
      "    ##\n",
      "   ###\n",
      "  ####\n",
      " #####\n",
      "######\n"
     ]
    }
   ],
   "source": [
    "def staircase(n):\n",
    "    for i in range(1, n + 1):\n",
    "        print(\" \" * (n-1) + (\"#\" * i))\n",
    "        n -= 1\n",
    "\n",
    "\n",
    "n = int(input().strip())\n",
    "\n",
    "staircase(n)"
   ]
  },
  {
   "cell_type": "markdown",
   "id": "ceb5647a",
   "metadata": {},
   "source": [
    "# Pangrams, problem 06\n"
   ]
  },
  {
   "cell_type": "code",
   "execution_count": 9,
   "id": "b05c45d5",
   "metadata": {},
   "outputs": [
    {
     "name": "stdout",
     "output_type": "stream",
     "text": [
      "not pangram\n"
     ]
    }
   ],
   "source": [
    "def pangrams(s):\n",
    "    \n",
    "    d = set(s.lower())\n",
    "    if len(d) == 27:\n",
    "        result = \"pangram\"\n",
    "    else:\n",
    "        result = \"not pangram\"\n",
    "    \n",
    "    return result\n",
    "\n",
    "\n",
    "\n",
    "s = input()\n",
    "\n",
    "result = pangrams(s)\n",
    "print(result)"
   ]
  }
 ],
 "metadata": {
  "kernelspec": {
   "display_name": "base",
   "language": "python",
   "name": "python3"
  },
  "language_info": {
   "codemirror_mode": {
    "name": "ipython",
    "version": 3
   },
   "file_extension": ".py",
   "mimetype": "text/x-python",
   "name": "python",
   "nbconvert_exporter": "python",
   "pygments_lexer": "ipython3",
   "version": "3.13.5"
  }
 },
 "nbformat": 4,
 "nbformat_minor": 5
}
